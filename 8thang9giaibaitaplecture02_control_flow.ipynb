{
 "cells": [
  {
   "cell_type": "markdown",
   "metadata": {},
   "source": [
    "# Lecture 02: Control Flow"
   ]
  },
  {
   "cell_type": "markdown",
   "metadata": {},
   "source": [
    "\n",
    "<ul>\n",
    "<li>Có 3 pattern trong lập trình:<ol>\n",
    "<li><strong>Sequential:</strong> thực thi từ trên xuống dưới.</li>\n",
    "<li><strong>Branching:</strong> kiểm tra điều kiện, nếu đúng làm block lệnh này, sai làm block lệnh kia.</li>\n",
    "<li><strong>Looping</strong>: kiểm tra điều kiện và lặp lại một block lệnh.</li>\n",
    "</ol>\n",
    "</li>\n",
    "</ul>\n"
   ]
  },
  {
   "cell_type": "markdown",
   "metadata": {},
   "source": [
    "\n",
    "<h2 id=\"1.-Branching\">1. Branching<a class=\"anchor-link\" href=\"#1.-Branching\">¶</a></h2>\n"
   ]
  },
  {
   "cell_type": "markdown",
   "metadata": {},
   "source": [
    "\n",
    "<h3 id=\"1.1.-Tổng-quan\">1.1. Tổng quan<a class=\"anchor-link\" href=\"#1.1.-Tổng-quan\">¶</a></h3><ul>\n",
    "<li>Branching là động tác điều hướng chương trình thực thi các khối lệnh khác nhau dựa trên kết quả của việc kiểm tra một điều kiện nào đó.</li>\n",
    "<li>Branching được thực hiện bằng cách sử dụng các từ khóa sau <code>if</code>, <code>elif</code>, <code>else</code>.</li>\n",
    "<li><code>else</code> và <code>elif</code> là optional, không phải lúc nào cũng cần.</li>\n",
    "<li><p>Cú pháp tổng quát có dạng:</p>\n",
    "<pre><code>  if some_condition:\n",
    "      # do something\n",
    "  elif some_condition:\n",
    "      # do something\n",
    "  elif some_condition:\n",
    "      # do something\n",
    "  ...\n",
    "  else:\n",
    "      # do something</code></pre>\n",
    "</li>\n",
    "</ul>\n"
   ]
  },
  {
   "cell_type": "markdown",
   "metadata": {},
   "source": [
    "\n",
    "<h3 id=\"1.2.-Ví-dụ\">1.2. Ví dụ<a class=\"anchor-link\" href=\"#1.2.-Ví-dụ\">¶</a></h3>\n"
   ]
  },
  {
   "cell_type": "markdown",
   "metadata": {},
   "source": [
    "\n",
    "<h4 id=\"VD1:-if\">VD1: <code>if</code><a class=\"anchor-link\" href=\"#VD1:-if\">¶</a></h4>\n"
   ]
  },
  {
   "cell_type": "code",
   "execution_count": 3,
   "metadata": {},
   "outputs": [
    {
     "data": {
      "text/plain": [
       "'negative'"
      ]
     },
     "execution_count": 3,
     "metadata": {},
     "output_type": "execute_result"
    }
   ],
   "source": [
    "# Kiểm tra một số nguyên có là số dương hay không\n",
    "# Nếu đúng in ra \"positive\"\n",
    "n = -1\n",
    "print('positive') if n>0 else 'negative'"
   ]
  },
  {
   "cell_type": "code",
   "execution_count": 9,
   "metadata": {},
   "outputs": [
    {
     "data": {
      "text/plain": [
       "'Khong ton tai'"
      ]
     },
     "execution_count": 9,
     "metadata": {},
     "output_type": "execute_result"
    }
   ],
   "source": [
    "# Kiểm tra 65 có trong mã lớp hay không, nếu có in ra có tồn tại\n",
    "malop = [i for i in range(60)]\n",
    "print('Ton tai') if (65 in malop) else 'Khong ton tai'"
   ]
  },
  {
   "cell_type": "code",
   "execution_count": 13,
   "metadata": {},
   "outputs": [
    {
     "name": "stdout",
     "output_type": "stream",
     "text": [
      "[0, 2, 4, 6, 8, 10, 12, 14, 16, 18, 20, 22, 24, 26, 28, 30, 32, 34, 36, 38, 40, 42, 44, 46, 48, 50, 52, 54, 56, 58, 60, 62, 64, 66, 68, 70, 72, 74, 76, 78, 80, 82, 84, 86, 88, 90, 92, 94, 96, 98, 100]\n"
     ]
    }
   ],
   "source": [
    "# Lọc ra các số chẵn trong 100 số nguyên đầu tiên\n",
    "a = [i for i in range(0,102,2)]\n",
    "print(a)"
   ]
  },
  {
   "cell_type": "markdown",
   "metadata": {},
   "source": [
    "\n",
    "<h4 id=\"VD2:-if-else\">VD2: if else<a class=\"anchor-link\" href=\"#VD2:-if-else\">¶</a></h4>\n"
   ]
  },
  {
   "cell_type": "code",
   "execution_count": 15,
   "metadata": {},
   "outputs": [
    {
     "data": {
      "text/plain": [
       "'Le'"
      ]
     },
     "execution_count": 15,
     "metadata": {},
     "output_type": "execute_result"
    }
   ],
   "source": [
    "# Kiểm tra một số nguyên là chẵn hay lẻ\n",
    "# Nếu chẵn in \"even\", ngược lại in \"odd\"\n",
    "n = 3\n",
    "print('Chan') if n%2==0 else 'Le'"
   ]
  },
  {
   "cell_type": "markdown",
   "metadata": {},
   "source": [
    "\n",
    "<h4 id=\"VD3:-if-elif\">VD3: if elif<a class=\"anchor-link\" href=\"#VD3:-if-elif\">¶</a></h4>\n"
   ]
  },
  {
   "cell_type": "code",
   "execution_count": 29,
   "metadata": {},
   "outputs": [],
   "source": [
    "# Kiểm tra một số nguyên là dương, âm\n",
    "# In ra \"positive\", \"negative\" tương ứng\n",
    "# Nếu số bằng 0 thì không làm gì cả\n",
    "n = 0\n",
    "if n>0: \n",
    "    print('positive')\n",
    "elif n<0:\n",
    "    print('negative')"
   ]
  },
  {
   "cell_type": "markdown",
   "metadata": {},
   "source": [
    "\n",
    "<h4 id=\"VD4:-if-elif-else\">VD4: if elif else<a class=\"anchor-link\" href=\"#VD4:-if-elif-else\">¶</a></h4>\n"
   ]
  },
  {
   "cell_type": "code",
   "execution_count": 33,
   "metadata": {},
   "outputs": [
    {
     "name": "stdout",
     "output_type": "stream",
     "text": [
      "negative\n"
     ]
    }
   ],
   "source": [
    "# Kiểm tra một số nguyên là dương, âm, hay bằng 0\n",
    "# In ra \"positive\", \"negative\", hoặc \"zero\" tương ứng\n",
    "n = -4\n",
    "if n>0: \n",
    "    print('positive')\n",
    "elif n<0:\n",
    "    print('negative')\n",
    "else:\n",
    "    print('zero')"
   ]
  },
  {
   "cell_type": "code",
   "execution_count": null,
   "metadata": {},
   "outputs": [],
   "source": [
    "'''\n",
    "Tạo 2 list: name, province\n",
    "Cho người dùng input, nếu giá trị input có chứa từ \"Tinh\"  thì thêm giá trị input vào list province, ngược lại thì thêm vào list name\n",
    "'''"
   ]
  },
  {
   "cell_type": "code",
   "execution_count": 43,
   "metadata": {},
   "outputs": [
    {
     "name": "stdin",
     "output_type": "stream",
     "text": [
      "Nhap m: hsdhcdc\n"
     ]
    },
    {
     "name": "stdout",
     "output_type": "stream",
     "text": [
      "['hsdhcdc']\n",
      "[]\n"
     ]
    }
   ],
   "source": [
    "m = input('Nhap m:')\n",
    "name,province = [],[]\n",
    "province.append(m) if m=='Tinh' else name.append(m)\n",
    "print(name)\n",
    "print(province)"
   ]
  },
  {
   "cell_type": "markdown",
   "metadata": {},
   "source": [
    "\n",
    "<h3 id=\"1.3.-Nested-if\">1.3. Nested if<a class=\"anchor-link\" href=\"#1.3.-Nested-if\">¶</a></h3>\n"
   ]
  },
  {
   "cell_type": "code",
   "execution_count": 56,
   "metadata": {},
   "outputs": [
    {
     "name": "stdout",
     "output_type": "stream",
     "text": [
      "Truot\n"
     ]
    }
   ],
   "source": [
    "# Kiểm tra xem điểm có hợp lệ không (0-10)\n",
    "# Nếu hợp lệ, kiểm tra xem có qua môn không (score >= 5)\n",
    "x = 4.9\n",
    "if x<0 or x>10:\n",
    "    print('Diem khong hop le')\n",
    "elif x>=5:\n",
    "    print('Qua mon')\n",
    "else:\n",
    "    print('Truot')"
   ]
  },
  {
   "cell_type": "code",
   "execution_count": 58,
   "metadata": {},
   "outputs": [
    {
     "name": "stdout",
     "output_type": "stream",
     "text": [
      "Truot\n"
     ]
    }
   ],
   "source": [
    "# Vẫn VD trên nhưng dùng nested if\n",
    "if x <0 or x>10:\n",
    "    print('Diem khong hop le')\n",
    "else:\n",
    "    if x>=5:\n",
    "        print('Qua mon')\n",
    "    else:\n",
    "        print('Truot')"
   ]
  },
  {
   "cell_type": "code",
   "execution_count": 70,
   "metadata": {},
   "outputs": [
    {
     "name": "stdout",
     "output_type": "stream",
     "text": [
      "Truot\n"
     ]
    }
   ],
   "source": [
    "# Tạo một dictionary lưu điểm\n",
    "scores = {\n",
    "    \"Jack\": 9,\n",
    "    \"Bill\": 4,\n",
    "    \"Hillary\": 7\n",
    "}\n",
    "\n",
    "# Kiểm tra xem một student có trong danh sách không và in ra\n",
    "# Nếu có, tiếp tục kiểm tra xem student đó có qua môn không (score >= 5)\n",
    "student = ['Jack',4.5]\n",
    "\n",
    "if student[0] in scores:\n",
    "    if student[1] >=5:\n",
    "        print('Qua mon')\n",
    "    else:\n",
    "        print('Truot')\n",
    "else:\n",
    "    print('{} khong co trong danh sach'.format(student[0]))\n"
   ]
  },
  {
   "cell_type": "code",
   "execution_count": null,
   "metadata": {},
   "outputs": [],
   "source": []
  },
  {
   "cell_type": "markdown",
   "metadata": {},
   "source": [
    "\n",
    "<h2 id=\"2.-Looping\">2. Looping<a class=\"anchor-link\" href=\"#2.-Looping\">¶</a></h2>\n"
   ]
  },
  {
   "cell_type": "markdown",
   "metadata": {},
   "source": [
    "\n",
    "<ul>\n",
    "<li>Looping (lặp) là động tác lặp đi lặp lại một block lệnh nhiều lần.</li>\n",
    "<li>Looping trong Python được thực hiện thông qua <code>for</code> hoặc <code>while</code>.</li>\n",
    "</ul>\n"
   ]
  },
  {
   "cell_type": "markdown",
   "metadata": {},
   "source": [
    "\n",
    "<h3 id=\"2.1.-for-loop\">2.1. <code>for</code> loop<a class=\"anchor-link\" href=\"#2.1.-for-loop\">¶</a></h3>\n"
   ]
  },
  {
   "cell_type": "markdown",
   "metadata": {},
   "source": [
    "\n",
    "<ul>\n",
    "<li>Vòng for thường được dùng để duyệt qua một <code>iterable</code>.</li>\n",
    "<li>Cú pháp tổng quát:\n",
    "<pre><code>  for var in interable:\n",
    "      # do something</code></pre>\n",
    "</li>\n",
    "</ul>\n"
   ]
  },
  {
   "cell_type": "markdown",
   "metadata": {},
   "source": [
    "\n",
    "<h4 id=\"VD1:-Duyệt-iterable-cơ-bản\">VD1: Duyệt iterable cơ bản<a class=\"anchor-link\" href=\"#VD1:-Duyệt-iterable-cơ-bản\">¶</a></h4>\n"
   ]
  },
  {
   "cell_type": "code",
   "execution_count": 74,
   "metadata": {},
   "outputs": [
    {
     "name": "stdout",
     "output_type": "stream",
     "text": [
      "0 1 2 3 4 5 6 7 8 9 "
     ]
    }
   ],
   "source": [
    "# In ra 10 số nguyên đầu tiên\n",
    "for i in range(10):\n",
    "    print(i,end= ' ')"
   ]
  },
  {
   "cell_type": "code",
   "execution_count": 76,
   "metadata": {},
   "outputs": [
    {
     "name": "stdout",
     "output_type": "stream",
     "text": [
      "285\n"
     ]
    }
   ],
   "source": [
    "# Tính tổng bình phương của 10 số nguyên đầu tiên\n",
    "s = 0\n",
    "for i in range(10):\n",
    "    s += i*i\n",
    "print(s)"
   ]
  },
  {
   "cell_type": "code",
   "execution_count": 78,
   "metadata": {},
   "outputs": [
    {
     "name": "stdout",
     "output_type": "stream",
     "text": [
      "6\n"
     ]
    }
   ],
   "source": [
    "# Đếm số ký tự viết hoa trong 1 string\n",
    "s = \"WTO is short for World Trade Organization\"\n",
    "\n",
    "d=0\n",
    "for i in s:\n",
    "    if i.isupper():\n",
    "        d+=1\n",
    "print(d)"
   ]
  },
  {
   "cell_type": "markdown",
   "metadata": {},
   "source": [
    "\n",
    "<h4 id=\"VD2:-Duyệt-sequence-với-enumerate\">VD2: Duyệt sequence với enumerate<a class=\"anchor-link\" href=\"#VD2:-Duyệt-sequence-với-enumerate\">¶</a></h4>\n"
   ]
  },
  {
   "cell_type": "code",
   "execution_count": 84,
   "metadata": {},
   "outputs": [
    {
     "name": "stdout",
     "output_type": "stream",
     "text": [
      "0 Jack\n",
      "1 Bill\n",
      "2 Jane\n"
     ]
    }
   ],
   "source": [
    "# Duyệt kèm index với enumerate\n",
    "students = [\"Jack\", \"Bill\", \"Jane\"]\n",
    "for i,di in enumerate(students):\n",
    "    print(i,di)"
   ]
  },
  {
   "cell_type": "markdown",
   "metadata": {},
   "source": [
    "\n",
    "<h4 id=\"VD4:-Duyệt-dict\">VD4: Duyệt dict<a class=\"anchor-link\" href=\"#VD4:-Duyệt-dict\">¶</a></h4>\n"
   ]
  },
  {
   "cell_type": "code",
   "execution_count": 86,
   "metadata": {},
   "outputs": [
    {
     "name": "stdout",
     "output_type": "stream",
     "text": [
      "Jack\n",
      "Bill\n",
      "Hillary\n"
     ]
    }
   ],
   "source": [
    "# Duyệt dict keys\n",
    "scores = {\n",
    "    \"Jack\": 9,\n",
    "    \"Bill\": 4,\n",
    "    \"Hillary\": 7\n",
    "}\n",
    "\n",
    "for i in scores:\n",
    "    print(i)"
   ]
  },
  {
   "cell_type": "code",
   "execution_count": 92,
   "metadata": {},
   "outputs": [
    {
     "name": "stdout",
     "output_type": "stream",
     "text": [
      "9 4 7 "
     ]
    }
   ],
   "source": [
    "# Duyệt dict values\n",
    "for i in scores.values():\n",
    "    print(i,end=' ')"
   ]
  },
  {
   "cell_type": "code",
   "execution_count": 94,
   "metadata": {},
   "outputs": [
    {
     "name": "stdout",
     "output_type": "stream",
     "text": [
      "student Jack has score of 9\n",
      "student Bill has score of 4\n",
      "student Hillary has score of 7\n"
     ]
    }
   ],
   "source": [
    "# Duyệt dict items\n",
    "for i in scores:\n",
    "    print('student {} has score of {}'.format(i,scores[i]))"
   ]
  },
  {
   "cell_type": "markdown",
   "metadata": {},
   "source": [
    "\n",
    "<h4 id=\"VD5:-Nested-for\">VD5: Nested for<a class=\"anchor-link\" href=\"#VD5:-Nested-for\">¶</a></h4>\n"
   ]
  },
  {
   "cell_type": "code",
   "execution_count": 100,
   "metadata": {},
   "outputs": [
    {
     "name": "stdout",
     "output_type": "stream",
     "text": [
      "0 1 2 3 4 5 6 7 8 9 \n",
      "1 2 3 4 5 6 7 8 9 \n",
      "2 3 4 5 6 7 8 9 \n",
      "3 4 5 6 7 8 9 \n",
      "4 5 6 7 8 9 \n",
      "5 6 7 8 9 \n",
      "6 7 8 9 \n",
      "7 8 9 \n",
      "8 9 \n",
      "9 \n"
     ]
    }
   ],
   "source": [
    "# In ra tam giác\n",
    "for i in range(10):\n",
    "    for j in range(i,10):\n",
    "        print(j,end=' ')\n",
    "    print()"
   ]
  },
  {
   "cell_type": "markdown",
   "metadata": {},
   "source": [
    "\n",
    "<h3 id=\"2.2.-While-loop\">2.2. While loop<a class=\"anchor-link\" href=\"#2.2.-While-loop\">¶</a></h3>\n"
   ]
  },
  {
   "cell_type": "markdown",
   "metadata": {},
   "source": [
    "\n",
    "<ul>\n",
    "<li>Vòng <code>while</code> thường được dùng để lặp khi điều kiện dừng của nó chưa biết rõ từ đầu, mà được tính toán từ quá trình lặp.</li>\n",
    "<li><p>Cú pháp tổng quát:</p>\n",
    "<pre><code>  while condition:\n",
    "      # do something</code></pre>\n",
    "</li>\n",
    "<li><p><code>condition</code> là điều kiện quyết định vòng lặp while có được chạy hay không.</p>\n",
    "<ul>\n",
    "<li>Nếu <code>condition</code> trả về <code>True</code> thì câu lệnh trong <code>while</code> mới được thực thi</li>\n",
    "<li>Nếu <code>condition</code> trả về <code>False</code> vòng <code>while</code> sẽ dừng.</li>\n",
    "</ul>\n",
    "</li>\n",
    "</ul>\n"
   ]
  },
  {
   "cell_type": "markdown",
   "metadata": {},
   "source": [
    "\n",
    "<h4 id=\"VD1:-Dùng-vòng-while-như-vòng-for\">VD1: Dùng vòng while như vòng for<a class=\"anchor-link\" href=\"#VD1:-Dùng-vòng-while-như-vòng-for\">¶</a></h4>\n"
   ]
  },
  {
   "cell_type": "code",
   "execution_count": 106,
   "metadata": {},
   "outputs": [
    {
     "name": "stdout",
     "output_type": "stream",
     "text": [
      "0\n",
      "1\n",
      "2\n",
      "3\n",
      "4\n",
      "5\n",
      "6\n",
      "7\n",
      "8\n",
      "9\n",
      "0\n",
      "1\n",
      "2\n",
      "3\n",
      "4\n",
      "5\n",
      "6\n",
      "7\n",
      "8\n",
      "9\n"
     ]
    }
   ],
   "source": [
    "for i in range(10):\n",
    "    print(i)\n",
    "\n",
    "i = 0\n",
    "while i<10:\n",
    "    print(i)\n",
    "    i += 1"
   ]
  },
  {
   "cell_type": "code",
   "execution_count": 108,
   "metadata": {},
   "outputs": [
    {
     "name": "stdout",
     "output_type": "stream",
     "text": [
      "T,h,i,s, ,i,s, ,a, ,s,t,r,i,n,g,"
     ]
    }
   ],
   "source": [
    "# Dùng vòng for duyệt 1 sequence\n",
    "s = \"This is a string\"\n",
    "\n",
    "for i in s:\n",
    "    print(i,end=',')"
   ]
  },
  {
   "cell_type": "code",
   "execution_count": 110,
   "metadata": {},
   "outputs": [
    {
     "data": {
      "text/plain": [
       "16"
      ]
     },
     "execution_count": 110,
     "metadata": {},
     "output_type": "execute_result"
    }
   ],
   "source": [
    "len(s)"
   ]
  },
  {
   "cell_type": "code",
   "execution_count": 114,
   "metadata": {},
   "outputs": [
    {
     "name": "stdout",
     "output_type": "stream",
     "text": [
      "T,h,i,s, ,i,s, ,a, ,s,t,r,i,n,g,"
     ]
    }
   ],
   "source": [
    "# Làm VD trên với while\n",
    "i = 0\n",
    "while i<len(s):\n",
    "    print(s[i],end=',')\n",
    "    i+=1\n"
   ]
  },
  {
   "cell_type": "markdown",
   "metadata": {},
   "source": [
    "\n",
    "<h4 id=\"VD2:-Dùng-vòng-while-duyệt-data-động\">VD2: Dùng vòng while duyệt data động<a class=\"anchor-link\" href=\"#VD2:-Dùng-vòng-while-duyệt-data-động\">¶</a></h4>\n"
   ]
  },
  {
   "cell_type": "code",
   "execution_count": 142,
   "metadata": {},
   "outputs": [
    {
     "name": "stdout",
     "output_type": "stream",
     "text": [
      "[1, 2, 3, 5, 0, -2]\n",
      "1 2 3 5 0 -2 "
     ]
    }
   ],
   "source": [
    "l = [1, 2, 3, 5, 0, -2]\n",
    "print(l)\n",
    "i = 0\n",
    "while i <len(l):\n",
    "    print(l[i],end=' ')\n",
    "    i+=1"
   ]
  },
  {
   "cell_type": "code",
   "execution_count": 144,
   "metadata": {},
   "outputs": [
    {
     "name": "stdout",
     "output_type": "stream",
     "text": [
      "9\n",
      "[]\n"
     ]
    }
   ],
   "source": [
    "# Tính tổng một list số nguyên và làm rỗng list khi tính xong\n",
    "s,i = 0,0\n",
    "while l:\n",
    "    s += l.pop(i)\n",
    "print(s)\n",
    "print(l)"
   ]
  },
  {
   "cell_type": "code",
   "execution_count": 146,
   "metadata": {},
   "outputs": [
    {
     "data": {
      "text/plain": [
       "0"
      ]
     },
     "execution_count": 146,
     "metadata": {},
     "output_type": "execute_result"
    }
   ],
   "source": [
    "sum(l)"
   ]
  },
  {
   "cell_type": "code",
   "execution_count": 152,
   "metadata": {},
   "outputs": [
    {
     "name": "stdout",
     "output_type": "stream",
     "text": [
      "87654321"
     ]
    }
   ],
   "source": [
    "# In ra các chữ số của một số nguyên theo chiều ngược lại\n",
    "# VD: số ban đầu 1245378, số in ra 8735421\n",
    "a = 12345678\n",
    "b = a\n",
    "\n",
    "while b:\n",
    "    print(b%10,end='')\n",
    "    b //= 10"
   ]
  },
  {
   "cell_type": "code",
   "execution_count": 154,
   "metadata": {},
   "outputs": [
    {
     "name": "stdout",
     "output_type": "stream",
     "text": [
      "87654321\n"
     ]
    }
   ],
   "source": [
    "# Cách nhanh hơn (ko dùng loop)\n",
    "print(int(str(a)[::-1]))"
   ]
  },
  {
   "cell_type": "markdown",
   "metadata": {},
   "source": [
    "\n",
    "<h2 id=\"3.-break-and-continue\">3. <code>break</code> and <code>continue</code><a class=\"anchor-link\" href=\"#3.-break-and-continue\">¶</a></h2>\n"
   ]
  },
  {
   "cell_type": "markdown",
   "metadata": {},
   "source": [
    "\n",
    "<ul>\n",
    "<li><code>break</code> - chấm dứt vòng lặp (nhảy ra khỏi vòng lặp để ra block phía sau cùng cấp với vòng for/while).</li>\n",
    "<li><code>continue</code> - skip tất cả các câu lệnh phía sau <code>continue</code> ở iteration hiện tại và chuyển qua iteration tiếp theo.</li>\n",
    "</ul>\n"
   ]
  },
  {
   "cell_type": "markdown",
   "metadata": {},
   "source": [
    "\n",
    "<h3 id=\"3.1.-break\">3.1. <code>break</code><a class=\"anchor-link\" href=\"#3.1.-break\">¶</a></h3>\n"
   ]
  },
  {
   "cell_type": "code",
   "execution_count": 156,
   "metadata": {},
   "outputs": [
    {
     "name": "stdout",
     "output_type": "stream",
     "text": [
      "Có tổng cộng 7 phần tử\n",
      "Iteration 1\n",
      "Iteration 2\n",
      "Iteration 3\n",
      "Iteration 4\n",
      "4\n",
      "End for\n",
      "\n",
      "Có tổng cộng 5 phần tử\n",
      "Iteration 1\n",
      "Iteration 2\n",
      "Iteration 3\n",
      "Iteration 4\n",
      "Iteration 5\n"
     ]
    }
   ],
   "source": [
    "# In ra số chẵn đầu tiên của list (nếu tìm thấy) và dừng vòng lặp\n",
    "# Đồng thời in ra số thứ tự của iteration ở mỗi bước (bắt đầu từ 1)\n",
    "l = [1, 3, -15, 4, 8, -2, 7] # Có số chẵn\n",
    "l2 = list(range(1, 10, 2)) # Không có số chẵn\n",
    "\n",
    "# Test với l\n",
    "print(\"Có tổng cộng {} phần tử\".format(len(l)))\n",
    "for i, x in enumerate(l):\n",
    "    print(\"Iteration {}\".format(i + 1))\n",
    "\n",
    "    if x % 2 == 0:\n",
    "        print(x)\n",
    "        print(\"End for\")\n",
    "        break\n",
    "\n",
    "# Test với l2\n",
    "print(\"\\nCó tổng cộng {} phần tử\".format(len(l2)))\n",
    "for i, x in enumerate(l2):\n",
    "    print(\"Iteration {}\".format(i + 1))\n",
    "\n",
    "    if x % 2 == 0:\n",
    "        print(x)\n",
    "        break"
   ]
  },
  {
   "cell_type": "markdown",
   "metadata": {},
   "source": [
    "\n",
    "<h3 id=\"3.2.-continue\">3.2. <code>continue</code><a class=\"anchor-link\" href=\"#3.2.-continue\">¶</a></h3>\n"
   ]
  },
  {
   "cell_type": "code",
   "execution_count": 36,
   "metadata": {},
   "outputs": [
    {
     "name": "stdout",
     "output_type": "stream",
     "text": [
      "8\n"
     ]
    }
   ],
   "source": [
    "# Cho 1 list, chỉ tính tổng các số dương\n",
    "l = [1, 3, -15, 4, -2, 0, -8]\n",
    "\n",
    "total = 0\n",
    "for x in l:\n",
    "    if x <= 0:\n",
    "        continue\n",
    "    \n",
    "    total += x\n",
    "    \n",
    "print(total)"
   ]
  },
  {
   "cell_type": "code",
   "execution_count": 158,
   "metadata": {},
   "outputs": [
    {
     "name": "stdout",
     "output_type": "stream",
     "text": [
      "8\n"
     ]
    }
   ],
   "source": [
    "# VD trên (không dùng continue)\n",
    "l = [1, 3, -15, 4, -2, 0, -8]\n",
    "\n",
    "total = 0\n",
    "for i in l:\n",
    "    if i > 0:\n",
    "        total += i\n",
    "print(total)"
   ]
  },
  {
   "cell_type": "code",
   "execution_count": null,
   "metadata": {},
   "outputs": [],
   "source": [
    "'''\n",
    "Cho danh sách ['Nguyen Van A','Tran Quang Khai',28,'Tinh Nghe An',40,'TP HCM']\n",
    "Tạo 3 list rỗng name, age, province\n",
    "Duyệt qua danh sách, nếu:\n",
    "- Giá trị là dạng số thì thêm vào list age\n",
    "- Giá trị có chứa keyword 'Tinh' hay 'TP' thì thêm vào list province\n",
    "- Còn lại thêm vào list name\n",
    "'''"
   ]
  },
  {
   "cell_type": "code",
   "execution_count": 178,
   "metadata": {},
   "outputs": [
    {
     "name": "stdout",
     "output_type": "stream",
     "text": [
      "[28, 40]\n",
      "['Tinh Nghe An', 'TP HCM']\n",
      "['Nguyen Van A', 'Tran Quang Khai']\n"
     ]
    }
   ],
   "source": [
    "l = ['Nguyen Van A','Tran Quang Khai',28,'Tinh Nghe An',40,'TP HCM']\n",
    "name,age,province = [],[],[]\n",
    "for i in l:\n",
    "    if str(i).isdigit():\n",
    "        age.append(i)\n",
    "    elif 'Tinh' in str(i) or 'TP' in str(i):\n",
    "        province.append(i)\n",
    "    else:\n",
    "        name.append(i)\n",
    "print(age)\n",
    "print(province)\n",
    "print(name)"
   ]
  },
  {
   "cell_type": "markdown",
   "metadata": {},
   "source": [
    "\n",
    "<h2 id=\"4.-Comprehensions\">4. Comprehensions<a class=\"anchor-link\" href=\"#4.-Comprehensions\">¶</a></h2>\n"
   ]
  },
  {
   "cell_type": "markdown",
   "metadata": {},
   "source": [
    "\n",
    "<h3 id=\"4.1.-Tổng-quan\">4.1. Tổng quan<a class=\"anchor-link\" href=\"#4.1.-Tổng-quan\">¶</a></h3><ul>\n",
    "<li>Comprehensions là một cách ngắn gọn để tạo sequences hoặc dictionaries mà không cần phải viết vòng lặp. </li>\n",
    "<li>Cú pháp tổng quát như sau:\n",
    "<pre><code>  l = [expr for item in interable if condition]\n",
    "  t = (expr for item in interable if condition)\n",
    "  d = {expr_1: expr_2 for item in interable if condition}</code></pre>\n",
    "</li>\n",
    "</ul>\n"
   ]
  },
  {
   "cell_type": "markdown",
   "metadata": {},
   "source": [
    "\n",
    "<h3 id=\"4.2.-Ví-dụ\">4.2. Ví dụ<a class=\"anchor-link\" href=\"#4.2.-Ví-dụ\">¶</a></h3>\n"
   ]
  },
  {
   "cell_type": "markdown",
   "metadata": {},
   "source": [
    "\n",
    "<h4 id=\"VD1:-List-comprehensions\">VD1: List comprehensions<a class=\"anchor-link\" href=\"#VD1:-List-comprehensions\">¶</a></h4>\n"
   ]
  },
  {
   "cell_type": "code",
   "execution_count": 180,
   "metadata": {},
   "outputs": [
    {
     "name": "stdout",
     "output_type": "stream",
     "text": [
      "0 1 4 9 16 25 36 49 64 81 100 "
     ]
    }
   ],
   "source": [
    "# Generate squares <= 100\n",
    "for i in range(11):\n",
    "    x = i**2\n",
    "    print(x,end=' ')"
   ]
  },
  {
   "cell_type": "code",
   "execution_count": 185,
   "metadata": {},
   "outputs": [
    {
     "data": {
      "text/plain": [
       "[0, 1, 4, 9, 16, 25, 36, 49, 64, 81, 100]"
      ]
     },
     "execution_count": 185,
     "metadata": {},
     "output_type": "execute_result"
    }
   ],
   "source": [
    "l = [x*x for x in range(0,11)]\n",
    "l"
   ]
  },
  {
   "cell_type": "code",
   "execution_count": 191,
   "metadata": {},
   "outputs": [
    {
     "data": {
      "text/plain": [
       "[0, 4, 16, 36, 64, 100]"
      ]
     },
     "execution_count": 191,
     "metadata": {},
     "output_type": "execute_result"
    }
   ],
   "source": [
    "# Generate squares <= 100 of even numbers only\n",
    "[i*i for i in range(0,11,2)]"
   ]
  },
  {
   "cell_type": "code",
   "execution_count": 193,
   "metadata": {},
   "outputs": [
    {
     "data": {
      "text/plain": [
       "[0, 4, 16, 36, 64, 100]"
      ]
     },
     "execution_count": 193,
     "metadata": {},
     "output_type": "execute_result"
    }
   ],
   "source": [
    "# Generate squares <= 100 of even numbers only\n",
    "[i*i for i in range(0,11) if i%2==0]"
   ]
  },
  {
   "cell_type": "code",
   "execution_count": 195,
   "metadata": {},
   "outputs": [
    {
     "data": {
      "text/plain": [
       "[4, 2, 1, 4, 2, 5]"
      ]
     },
     "execution_count": 195,
     "metadata": {},
     "output_type": "execute_result"
    }
   ],
   "source": [
    "# Count number of characters for each word\n",
    "word_list = [\"this\",\"is\",\"a\",\"list\",\"of\",\"words\"]\n",
    "l = [len(x) for x in word_list]\n",
    "l"
   ]
  },
  {
   "cell_type": "code",
   "execution_count": 201,
   "metadata": {},
   "outputs": [
    {
     "data": {
      "text/plain": [
       "['20', '1000000']"
      ]
     },
     "execution_count": 201,
     "metadata": {},
     "output_type": "execute_result"
    }
   ],
   "source": [
    "# Extract tokens that are numbers from a string\n",
    "text = \"I am 20 years old and earn 1000000 USD annually\"\n",
    "l = [x for x in text.split(' ') if str(x).isdigit()]\n",
    "l"
   ]
  },
  {
   "cell_type": "markdown",
   "metadata": {},
   "source": [
    "\n",
    "<h4 id=\"VD2:-Dict-comprehensions\">VD2: Dict comprehensions<a class=\"anchor-link\" href=\"#VD2:-Dict-comprehensions\">¶</a></h4>\n"
   ]
  },
  {
   "cell_type": "code",
   "execution_count": 203,
   "metadata": {},
   "outputs": [
    {
     "data": {
      "text/plain": [
       "{0: 0, 1: 1, 2: 4, 3: 9, 4: 16, 5: 25, 6: 36, 7: 49, 8: 64, 9: 81, 10: 100}"
      ]
     },
     "execution_count": 203,
     "metadata": {},
     "output_type": "execute_result"
    }
   ],
   "source": [
    "# Generate x: x^2 pairs for x <= 10\n",
    "d = {x:x*x for x in range(11)}\n",
    "d"
   ]
  },
  {
   "cell_type": "code",
   "execution_count": 211,
   "metadata": {},
   "outputs": [
    {
     "name": "stdout",
     "output_type": "stream",
     "text": [
      "{0: 0, 2: 4, 4: 16, 6: 36, 8: 64, 10: 100}\n",
      "{0: 0, 2: 4, 4: 16, 6: 36, 8: 64, 10: 100}\n"
     ]
    }
   ],
   "source": [
    "# Generate x: x^2 pairs for x <= 10 for even numbers only\n",
    "d = {x:x*x for x in range(0,11,2)}\n",
    "e = {x:x*x for x in range(11) if x%2==0}\n",
    "print(d)\n",
    "print(e)"
   ]
  },
  {
   "cell_type": "code",
   "execution_count": 213,
   "metadata": {},
   "outputs": [
    {
     "data": {
      "text/plain": [
       "{'this': 4, 'is': 2, 'a': 1, 'list': 4, 'of': 2, 'words': 5}"
      ]
     },
     "execution_count": 213,
     "metadata": {},
     "output_type": "execute_result"
    }
   ],
   "source": [
    "# Count number of characters for each word\n",
    "word_list = [\"this\",\"is\",\"a\",\"list\",\"of\",\"words\"]\n",
    "d = {x:len(x) for x in word_list}\n",
    "d"
   ]
  },
  {
   "cell_type": "code",
   "execution_count": 221,
   "metadata": {},
   "outputs": [
    {
     "data": {
      "text/plain": [
       "{'This': 'THIS',\n",
       " 'iS': 'IS',\n",
       " 'a': 'A',\n",
       " 'list': 'LIST',\n",
       " 'of': 'OF',\n",
       " 'words': 'WORDS'}"
      ]
     },
     "execution_count": 221,
     "metadata": {},
     "output_type": "execute_result"
    }
   ],
   "source": [
    "# Generate lowercase: uppercase pairs\n",
    "word_list = [\"This\",\"iS\",\"a\",\"list\",\"of\",\"words\"]\n",
    "d = {x:x.upper() for x in word_list}\n",
    "d"
   ]
  },
  {
   "cell_type": "code",
   "execution_count": 223,
   "metadata": {},
   "outputs": [
    {
     "name": "stdout",
     "output_type": "stream",
     "text": [
      "{1: 'this', 2: 'is', 3: 'a', 4: 'list', 5: 'of', 6: 'words'}\n",
      "{1: 'this', 2: 'is', 3: 'a', 4: 'list', 5: 'of', 6: 'words'}\n",
      "{'this': 1, 'is': 2, 'a': 3, 'list': 4, 'of': 5, 'words': 6}\n"
     ]
    }
   ],
   "source": [
    "# Generate a dict of position: value pairs from a list\n",
    "word_list = [\"this\",\"is\",\"a\",\"list\",\"of\",\"words\"]\n",
    "# d1 = {x:word_list.index(x) for x in word_list} -> index -> first value\n",
    "d2 = {x+1:word_list[x] for x in range(len(word_list))}\n",
    "d3 = {i+1:x for i,x in enumerate(word_list)}\n",
    "dic = {word_list[i]:i+1 for i in range(len(word_list))}\n",
    "print(d2)\n",
    "print(d3)\n",
    "print(dic)"
   ]
  },
  {
   "cell_type": "code",
   "execution_count": 237,
   "metadata": {},
   "outputs": [
    {
     "data": {
      "text/plain": [
       "{'Nguyen Van A': 'nguyenvana@gmail.com', 'Tran Van B': 'vanb@outlook.com'}"
      ]
     },
     "execution_count": 237,
     "metadata": {},
     "output_type": "execute_result"
    }
   ],
   "source": [
    "'''\n",
    "Truy xuất và lưu lại tên email từ list: ['Nguyen Van A',20,'nguyenvana@gmail.com','Tran Van B',15,'vanb@outlook.com']\n",
    "'''\n",
    "l = ['Nguyen Van A',20,'nguyenvana@gmail.com','Tran Van B',15,'vanb@outlook.com']\n",
    "email = {l[i-2]:l[i] for i in range(len(l)) if '@' in str(l[i])}\n",
    "email"
   ]
  },
  {
   "cell_type": "code",
   "execution_count": null,
   "metadata": {},
   "outputs": [],
   "source": []
  }
 ],
 "metadata": {
  "kernelspec": {
   "display_name": "Python 3 (ipykernel)",
   "language": "python",
   "name": "python3"
  },
  "language_info": {
   "codemirror_mode": {
    "name": "ipython",
    "version": 3
   },
   "file_extension": ".py",
   "mimetype": "text/x-python",
   "name": "python",
   "nbconvert_exporter": "python",
   "pygments_lexer": "ipython3",
   "version": "3.12.7"
  },
  "toc": {
   "base_numbering": 1,
   "nav_menu": {},
   "number_sections": true,
   "sideBar": true,
   "skip_h1_title": false,
   "title_cell": "Table of Contents",
   "title_sidebar": "Contents",
   "toc_cell": false,
   "toc_position": {},
   "toc_section_display": true,
   "toc_window_display": true
  }
 },
 "nbformat": 4,
 "nbformat_minor": 4
}
