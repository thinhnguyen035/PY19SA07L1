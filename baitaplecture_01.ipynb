{
 "cells": [
  {
   "cell_type": "code",
   "execution_count": null,
   "id": "e3e8cbe7-7204-4eb5-b6ba-f631373a7cc2",
   "metadata": {},
   "outputs": [],
   "source": [
    "# Calculate the multiplication and sum of two numbers"
   ]
  },
  {
   "cell_type": "code",
   "execution_count": 1,
   "id": "868cd303-340d-4f40-ace9-015fac9cd4b8",
   "metadata": {},
   "outputs": [
    {
     "name": "stdout",
     "output_type": "stream",
     "text": [
      "600\n",
      "50\n"
     ]
    }
   ],
   "source": [
    "number1 = 20\n",
    "number2 = 30\n",
    "print(number1*number2)\n",
    "print(number1+number2)"
   ]
  },
  {
   "cell_type": "code",
   "execution_count": null,
   "id": "ba086804-f19e-4a77-a135-3a9e73702f8f",
   "metadata": {},
   "outputs": [],
   "source": [
    "# Display three string “Name”, “Is”, “James” as “Name**Is**James”"
   ]
  },
  {
   "cell_type": "code",
   "execution_count": 2,
   "id": "29783b4f-c615-4e10-8fde-e5d17ba50e74",
   "metadata": {},
   "outputs": [
    {
     "name": "stdout",
     "output_type": "stream",
     "text": [
      "Name**Is**James\n"
     ]
    }
   ],
   "source": [
    "print('Name','Is','James',sep = '**')"
   ]
  },
  {
   "cell_type": "code",
   "execution_count": null,
   "id": "6f294f38-1543-415d-b286-fb78fee4a68e",
   "metadata": {},
   "outputs": [],
   "source": [
    "# Display float number with 2 decimal places using print()"
   ]
  },
  {
   "cell_type": "code",
   "execution_count": 3,
   "id": "80fcd222-1ae1-4f7c-8b64-8206676cb9ff",
   "metadata": {},
   "outputs": [
    {
     "name": "stdout",
     "output_type": "stream",
     "text": [
      "3.14\n"
     ]
    }
   ],
   "source": [
    "print('%.2f'%3.141592654)"
   ]
  },
  {
   "cell_type": "code",
   "execution_count": null,
   "id": "2c71e499-1623-4021-8875-45262448ec15",
   "metadata": {},
   "outputs": [],
   "source": [
    "# Write a program to accept two numbers from the user and calculate multiplication"
   ]
  },
  {
   "cell_type": "code",
   "execution_count": 4,
   "id": "ca645a6a-7c35-40cd-a3af-029f6b9bfedd",
   "metadata": {},
   "outputs": [
    {
     "name": "stdin",
     "output_type": "stream",
     "text": [
      "Nhap 2 so: 3 5555\n"
     ]
    },
    {
     "name": "stdout",
     "output_type": "stream",
     "text": [
      "16665.0\n"
     ]
    }
   ],
   "source": [
    "a,b = map(float,input('Nhap 2 so:').split())\n",
    "print(a*b)"
   ]
  },
  {
   "cell_type": "code",
   "execution_count": null,
   "id": "ba6efea7-c85b-42ab-8e95-5206e6b0e8c9",
   "metadata": {},
   "outputs": [],
   "source": [
    "# input:\n",
    "# totalMoney = 1000\n",
    "# quantity = 3\n",
    "# price = 450\n",
    "\n",
    "# output:\n",
    "# I have 1000 dollars so I can buy 3 football for 450 dollars"
   ]
  },
  {
   "cell_type": "code",
   "execution_count": 5,
   "id": "a4f8f61e-42fb-459e-847a-59d4b09108c9",
   "metadata": {},
   "outputs": [
    {
     "name": "stdout",
     "output_type": "stream",
     "text": [
      "I have 1000 dollars so I can buy 3 football for 450 dollars\n"
     ]
    }
   ],
   "source": [
    "totalMoney = 1000\n",
    "quantity = 3\n",
    "price = 450\n",
    "print('I have {} dollars so I can buy {} football for {} dollars'.format(totalMoney,quantity,price))"
   ]
  },
  {
   "cell_type": "code",
   "execution_count": null,
   "id": "14f966ab-622a-47ee-9638-c12187079641",
   "metadata": {},
   "outputs": [],
   "source": [
    "# Program to Check if a Number is Odd or Even"
   ]
  },
  {
   "cell_type": "code",
   "execution_count": 6,
   "id": "29556a54-5062-440b-b66d-1842d04b1acb",
   "metadata": {},
   "outputs": [
    {
     "name": "stdin",
     "output_type": "stream",
     "text": [
      "Nhap 1 so : 3.45\n"
     ]
    },
    {
     "name": "stdout",
     "output_type": "stream",
     "text": [
      "3.45 khong la so chan hay le\n"
     ]
    }
   ],
   "source": [
    "x = float(input('Nhap 1 so :'))\n",
    "if x % 2 == 0 :\n",
    "          print('{} la so chan'.format(x))\n",
    "elif x % 2 == 1:\n",
    "    print('{} la so le'.format(x))\n",
    "else:\n",
    "    print('{} khong la so chan hay le'.format(x))"
   ]
  }
 ],
 "metadata": {
  "kernelspec": {
   "display_name": "Python [conda env:T1] *",
   "language": "python",
   "name": "conda-env-T1-py"
  },
  "language_info": {
   "codemirror_mode": {
    "name": "ipython",
    "version": 3
   },
   "file_extension": ".py",
   "mimetype": "text/x-python",
   "name": "python",
   "nbconvert_exporter": "python",
   "pygments_lexer": "ipython3",
   "version": "3.12.7"
  }
 },
 "nbformat": 4,
 "nbformat_minor": 5
}
